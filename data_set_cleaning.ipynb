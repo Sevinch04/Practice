{
 "cells": [
  {
   "cell_type": "markdown",
   "id": "5b5c6c4e",
   "metadata": {},
   "source": [
    "1-Qadam. Kerakli kutubxonalarni o'rnatamiz va data setni o'qiymiz"
   ]
  },
  {
   "cell_type": "code",
   "execution_count": 1,
   "id": "c42d08df",
   "metadata": {},
   "outputs": [
    {
     "name": "stdout",
     "output_type": "stream",
     "text": [
      "Dastlabki ma'lumotlar:\n",
      "<class 'pandas.core.frame.DataFrame'>\n",
      "RangeIndex: 7043 entries, 0 to 7042\n",
      "Data columns (total 21 columns):\n",
      " #   Column            Non-Null Count  Dtype  \n",
      "---  ------            --------------  -----  \n",
      " 0   customerID        7043 non-null   object \n",
      " 1   gender            7043 non-null   object \n",
      " 2   SeniorCitizen     7043 non-null   int64  \n",
      " 3   Partner           7043 non-null   object \n",
      " 4   Dependents        7043 non-null   object \n",
      " 5   tenure            6696 non-null   float64\n",
      " 6   PhoneService      7043 non-null   object \n",
      " 7   MultipleLines     7043 non-null   object \n",
      " 8   InternetService   7043 non-null   object \n",
      " 9   OnlineSecurity    7043 non-null   object \n",
      " 10  OnlineBackup      7043 non-null   object \n",
      " 11  DeviceProtection  7043 non-null   object \n",
      " 12  TechSupport       7043 non-null   object \n",
      " 13  StreamingTV       7043 non-null   object \n",
      " 14  StreamingMovies   7043 non-null   object \n",
      " 15  Contract          7043 non-null   object \n",
      " 16  PaperlessBilling  7043 non-null   object \n",
      " 17  PaymentMethod     7043 non-null   object \n",
      " 18  MonthlyCharges    6696 non-null   object \n",
      " 19  TotalCharges      6698 non-null   object \n",
      " 20  Churn             7043 non-null   object \n",
      "dtypes: float64(1), int64(1), object(19)\n",
      "memory usage: 1.1+ MB\n",
      "None\n"
     ]
    }
   ],
   "source": [
    "import pandas as pd\n",
    "import numpy as np\n",
    "\n",
    "df = pd.read_csv('data.csv')\n",
    "print(\"Dastlabki ma'lumotlar:\")\n",
    "print(df.info())"
   ]
  },
  {
   "cell_type": "markdown",
   "id": "fe25d3f7",
   "metadata": {},
   "source": [
    "2-Qadam. Ma'lumotlarni tozalash va to'ldirish\n",
    "Oylik to'lovlarni va jami to'lovlarni raqamga aylantiramiz, noto'g'ri qiymatlarni NaN qilamiz\n",
    "Xizmat muddati bo'sh joylarini, oylik to'lovdagi va jami to'lovdagi bo'sh joylarni o'rtacha qiymat bilan to'ldiramiz"
   ]
  },
  {
   "cell_type": "code",
   "execution_count": 2,
   "id": "0276e733",
   "metadata": {},
   "outputs": [],
   "source": [
    "df['MonthlyCharges'] = pd.to_numeric(df['MonthlyCharges'], errors='coerce')\n",
    "df['TotalCharges'] = pd.to_numeric(df['TotalCharges'], errors='coerce')\n",
    "\n",
    "df['tenure'] = df['tenure'].fillna(df['tenure'].median())\n",
    "df['MonthlyCharges'] = df['MonthlyCharges'].fillna(df['MonthlyCharges'].median())\n",
    "df['TotalCharges'] = df['TotalCharges'].fillna(df['TotalCharges'].median())"
   ]
  },
  {
   "cell_type": "markdown",
   "id": "db8935f1",
   "metadata": {},
   "source": [
    "3-Qadam. Mijozlar ma'lumotlarini tozalaymiz va ekstremal qiymatlarni cheklaymiz. Faqat 0 yoki undan katta xizmat muddati (tenure) bo'lgan mijozlarni qoldiradiramiz, 10,000 dan katta to'lovlarni 99% chegarasiga moslab, anomaliyalarni olib tashlaymiz"
   ]
  },
  {
   "cell_type": "code",
   "execution_count": 3,
   "id": "02fa2185",
   "metadata": {},
   "outputs": [],
   "source": [
    "df = df[df['tenure'] >= 0]\n",
    "\n",
    "max_total = df['TotalCharges'].quantile(0.99)\n",
    "df['TotalCharges'] = df['TotalCharges'].apply(lambda x: min(x, max_total) if x > 10000 else x)"
   ]
  },
  {
   "cell_type": "markdown",
   "id": "95dc2209",
   "metadata": {},
   "source": [
    "4-Qadam. Kategoriyali va raqamli ustunlarni belgilaymiz va to'g'ri formatga o'tkazamiz"
   ]
  },
  {
   "cell_type": "code",
   "execution_count": 4,
   "id": "f2ff3bb8",
   "metadata": {},
   "outputs": [],
   "source": [
    "kategorik = ['gender', 'SeniorCitizen', 'Partner', 'Dependents', 'PhoneService', \n",
    "             'MultipleLines', 'InternetService', 'OnlineSecurity', 'OnlineBackup', \n",
    "             'DeviceProtection', 'TechSupport', 'StreamingTV', 'StreamingMovies', \n",
    "             'Contract', 'PaperlessBilling', 'PaymentMethod', 'Churn']\n",
    "for col in kategorik:\n",
    "    df[col] = df[col].astype('category')\n",
    "\n",
    "df['tenure'] = df['tenure'].astype(float)\n",
    "df['MonthlyCharges'] = df['MonthlyCharges'].astype(float)\n",
    "df['TotalCharges'] = df['TotalCharges'].astype(float)"
   ]
  },
  {
   "cell_type": "markdown",
   "id": "6992337f",
   "metadata": {},
   "source": [
    "5-Qadam. Yangi data setimizni saqlaymiz"
   ]
  },
  {
   "cell_type": "code",
   "execution_count": 16,
   "id": "f9cdf108",
   "metadata": {},
   "outputs": [],
   "source": [
    "df.to_csv('cleaned_data.csv', index=False)"
   ]
  },
  {
   "cell_type": "markdown",
   "id": "16d10fa3",
   "metadata": {},
   "source": [
    "6-Qadam. Yangi data setimizni tekshirib ko'ramiz"
   ]
  },
  {
   "cell_type": "code",
   "execution_count": 6,
   "id": "2be9a1dd",
   "metadata": {},
   "outputs": [
    {
     "name": "stdout",
     "output_type": "stream",
     "text": [
      "Tozalangan ma'lumotlar holati:\n",
      "<class 'pandas.core.frame.DataFrame'>\n",
      "Index: 6973 entries, 0 to 7042\n",
      "Data columns (total 21 columns):\n",
      " #   Column            Non-Null Count  Dtype   \n",
      "---  ------            --------------  -----   \n",
      " 0   customerID        6973 non-null   object  \n",
      " 1   gender            6973 non-null   category\n",
      " 2   SeniorCitizen     6973 non-null   category\n",
      " 3   Partner           6973 non-null   category\n",
      " 4   Dependents        6973 non-null   category\n",
      " 5   tenure            6973 non-null   float64 \n",
      " 6   PhoneService      6973 non-null   category\n",
      " 7   MultipleLines     6973 non-null   category\n",
      " 8   InternetService   6973 non-null   category\n",
      " 9   OnlineSecurity    6973 non-null   category\n",
      " 10  OnlineBackup      6973 non-null   category\n",
      " 11  DeviceProtection  6973 non-null   category\n",
      " 12  TechSupport       6973 non-null   category\n",
      " 13  StreamingTV       6973 non-null   category\n",
      " 14  StreamingMovies   6973 non-null   category\n",
      " 15  Contract          6973 non-null   category\n",
      " 16  PaperlessBilling  6973 non-null   category\n",
      " 17  PaymentMethod     6973 non-null   category\n",
      " 18  MonthlyCharges    6973 non-null   float64 \n",
      " 19  TotalCharges      6973 non-null   float64 \n",
      " 20  Churn             6973 non-null   category\n",
      "dtypes: category(17), float64(3), object(1)\n",
      "memory usage: 390.4+ KB\n",
      "None\n",
      "customerID          0\n",
      "gender              0\n",
      "SeniorCitizen       0\n",
      "Partner             0\n",
      "Dependents          0\n",
      "tenure              0\n",
      "PhoneService        0\n",
      "MultipleLines       0\n",
      "InternetService     0\n",
      "OnlineSecurity      0\n",
      "OnlineBackup        0\n",
      "DeviceProtection    0\n",
      "TechSupport         0\n",
      "StreamingTV         0\n",
      "StreamingMovies     0\n",
      "Contract            0\n",
      "PaperlessBilling    0\n",
      "PaymentMethod       0\n",
      "MonthlyCharges      0\n",
      "TotalCharges        0\n",
      "Churn               0\n",
      "dtype: int64\n",
      "   customerID  gender SeniorCitizen Partner Dependents  tenure PhoneService  \\\n",
      "0  7590-VHVEG  Female             0     Yes         No     1.0           No   \n",
      "1  5575-GNVDE    Male             0      No         No    34.0          Yes   \n",
      "2  3668-QPYBK    Male             0      No         No     2.0          Yes   \n",
      "3  7795-CFOCW    Male             0      No         No    45.0           No   \n",
      "4  9237-HQITU  Female             0      No         No     2.0          Yes   \n",
      "\n",
      "      MultipleLines InternetService OnlineSecurity  ... DeviceProtection  \\\n",
      "0  No phone service             DSL             No  ...               No   \n",
      "1                No             DSL            Yes  ...              Yes   \n",
      "2                No             DSL            Yes  ...               No   \n",
      "3  No phone service             DSL            Yes  ...              Yes   \n",
      "4                No     Fiber optic             No  ...               No   \n",
      "\n",
      "  TechSupport StreamingTV StreamingMovies        Contract PaperlessBilling  \\\n",
      "0          No          No              No  Month-to-month              Yes   \n",
      "1          No          No              No        One year               No   \n",
      "2          No          No              No  Month-to-month              Yes   \n",
      "3         Yes          No              No        One year               No   \n",
      "4          No          No              No  Month-to-month              Yes   \n",
      "\n",
      "               PaymentMethod MonthlyCharges  TotalCharges  Churn  \n",
      "0           Electronic check          70.35         29.85     No  \n",
      "1               Mailed check          56.95       1889.50     No  \n",
      "2               Mailed check          53.85        108.15    Yes  \n",
      "3  Bank transfer (automatic)          70.35       1840.75     No  \n",
      "4           Electronic check          70.70        151.65    Yes  \n",
      "\n",
      "[5 rows x 21 columns]\n"
     ]
    }
   ],
   "source": [
    "print(\"Tozalangan ma'lumotlar holati:\")\n",
    "print(df.info())\n",
    "print(df.isnull().sum())\n",
    "print(df.head())"
   ]
  }
 ],
 "metadata": {
  "kernelspec": {
   "display_name": "base",
   "language": "python",
   "name": "python3"
  },
  "language_info": {
   "codemirror_mode": {
    "name": "ipython",
    "version": 3
   },
   "file_extension": ".py",
   "mimetype": "text/x-python",
   "name": "python",
   "nbconvert_exporter": "python",
   "pygments_lexer": "ipython3",
   "version": "3.12.7"
  }
 },
 "nbformat": 4,
 "nbformat_minor": 5
}
